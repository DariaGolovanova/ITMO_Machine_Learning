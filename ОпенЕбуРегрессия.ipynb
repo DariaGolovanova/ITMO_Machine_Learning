{
  "nbformat": 4,
  "nbformat_minor": 0,
  "metadata": {
    "colab": {
      "name": "ОпенЕбуРегрессия.ipynb",
      "provenance": [],
      "collapsed_sections": []
    },
    "kernelspec": {
      "name": "python3",
      "display_name": "Python 3"
    },
    "language_info": {
      "name": "python"
    }
  },
  "cells": [
    {
      "cell_type": "markdown",
      "source": [
        "**Задание 1**\n",
        "\n",
        "Сначала найдём выборочные средние Х и У, для это в команду \"#statistics.mean([]) перебьём значения их столбцов Х и У соотвественно"
      ],
      "metadata": {
        "id": "O70xS2DoOTYf"
      }
    },
    {
      "cell_type": "code",
      "source": [
        "import statistics\n",
        "\n",
        "print('выборочное среднее Х:')\n",
        "print(statistics.mean([12, 17, 4, 1, 10, 7, 21, 18, 16, 14]))\n",
        "print('выборочное среднее У:')\n",
        "print(statistics.mean([26, 50, 9, 3, 25, 19, 53, 40, 26, 25]))"
      ],
      "metadata": {
        "colab": {
          "base_uri": "https://localhost:8080/"
        },
        "id": "0SH0nccHOrZY",
        "outputId": "f5ceb767-5a22-4de2-eb3a-542e89b5e04a"
      },
      "execution_count": 36,
      "outputs": [
        {
          "output_type": "stream",
          "name": "stdout",
          "text": [
            "выборочное средние Х:\n",
            "12\n",
            "выборочное средние У:\n",
            "27.6\n"
          ]
        }
      ]
    },
    {
      "cell_type": "markdown",
      "source": [
        "Теперь найдём коэффициенты. Для это нам понадобится csv-файл с таблицей из упражнения. Я назвала его у себя data.csv"
      ],
      "metadata": {
        "id": "av_rDTiAPEHC"
      }
    },
    {
      "cell_type": "code",
      "source": [
        "import pandas as pd\n",
        "\n",
        "#чтение данных, так как номера наблюдения уникальны, используем их в качестве индекса\n",
        "DATA = pd.read_csv(\"data.csv\", delimiter=',',index_col='id')\n",
        "\n",
        "\n",
        "#можем проверить, какая таблица получилась (для этого расскоментируйте следующую строку)\n",
        "#DATA\n",
        "\n",
        "#отбираем данные для предикторов, удаляя последний столбец\n",
        "X = pd.DataFrame(DATA.drop(['Y',], axis=1))\n",
        "\n",
        "\n",
        "#указываем столбец отклика\n",
        "y = pd.DataFrame(DATA['Y'])\n",
        "\n",
        "#подключаем модель линейной регрессии из библиотеки sklearn\n",
        "from sklearn.linear_model import LinearRegression\n",
        "\n",
        "#обучение модели\n",
        "reg = LinearRegression().fit(X, y)\n",
        "\n",
        "print('Значение коэффициента тета_1:')\n",
        "print(reg.coef_)\n",
        "\n",
        "print('Значение коэффициента тета_0:')\n",
        "print(reg.intercept_)\n",
        "\n",
        "print('Не забудьте округлить до сотых!')"
      ],
      "metadata": {
        "colab": {
          "base_uri": "https://localhost:8080/"
        },
        "id": "Lab_RUQXPOwX",
        "outputId": "b9f1e884-00de-45d0-bd15-2ef87545effe"
      },
      "execution_count": 41,
      "outputs": [
        {
          "output_type": "stream",
          "name": "stdout",
          "text": [
            "Значение коэффициента тета_1:\n",
            "[[2.31648936]]\n",
            "Значение коэффициента тета_0:\n",
            "[-0.19787234]\n",
            "Не забудьте округлить до сотых!\n"
          ]
        }
      ]
    },
    {
      "cell_type": "markdown",
      "source": [
        "**Задание 2**"
      ],
      "metadata": {
        "id": "BC76PE1wQvzl"
      }
    },
    {
      "cell_type": "code",
      "source": [
        "#чтение данных, так как названия конфет уникальны, используем их в качестве индекса\n",
        "import pandas as pd\n",
        "DATA = pd.read_csv(\"candy-data.csv\", delimiter=',', index_col='competitorname')\n",
        "\n",
        "#обучение модели будем проводить на данных, за исключением некоторых конфет\n",
        "train_data = DATA.drop(['Dum Dums', 'Lifesavers big ring gummies'])\n",
        "\n",
        "#отбираем данные для предикторов, удаляя два последних столбца, индекс не включается в данные.\n",
        "X = pd.DataFrame(train_data.drop(['winpercent', 'Y'], axis=1))\n",
        "#указываем столбец отклика\n",
        "y = pd.DataFrame(train_data['winpercent'])\n",
        "#подключаем модель линейной регрессии из библиотеки sklearn\n",
        "from sklearn.linear_model import LinearRegression\n",
        "#обучение модели\n",
        "reg = LinearRegression().fit(X, y)\n",
        "\n",
        "#предсказание для конфет из таблицы\n",
        "#выбираем строку из таблицы\n",
        "DumDums = DATA.loc['Dum Dums',:].to_frame().T\n",
        "\n",
        "#отбираем данные для предикторов и выполняем предсказание с помощью модели\n",
        "print('Предсказанное значение для конфет Dum Dums: ')\n",
        "print(reg.predict(DumDums.drop(['winpercent', 'Y'], axis=1)))\n",
        "\n",
        "Lifesavers = DATA.loc['Lifesavers big ring gummies',:].to_frame().T\n",
        "print('Предсказанное значение для конфет Lifesavers big ring gummies: ')\n",
        "print(reg.predict(Lifesavers.drop(['winpercent', 'Y'], axis=1)))\n",
        "\n",
        "print('предсказание для конфет введеных вручную: ')\n",
        "print(reg.predict([[0, 0, 1, 1, 0, 0, 0, 0, 0, 0.339, 0.564]]))"
      ],
      "metadata": {
        "colab": {
          "base_uri": "https://localhost:8080/"
        },
        "id": "HGOzev-mQ5TK",
        "outputId": "e4a0b1e8-9365-4927-9dbc-163a3560d0be"
      },
      "execution_count": 40,
      "outputs": [
        {
          "output_type": "stream",
          "name": "stdout",
          "text": [
            "Предсказанное значение для конфет Dum Dums: \n",
            "[[48.83971443]]\n",
            "Предсказанное значение для конфет Lifesavers big ring gummies: \n",
            "[[47.57941462]]\n",
            "предсказание для конфет введеных вручную: \n",
            "[[40.81115889]]\n"
          ]
        },
        {
          "output_type": "stream",
          "name": "stderr",
          "text": [
            "/usr/local/lib/python3.7/dist-packages/sklearn/base.py:451: UserWarning: X does not have valid feature names, but LinearRegression was fitted with feature names\n",
            "  \"X does not have valid feature names, but\"\n"
          ]
        }
      ]
    }
  ]
}