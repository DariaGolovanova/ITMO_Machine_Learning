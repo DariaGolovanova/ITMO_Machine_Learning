{
  "nbformat": 4,
  "nbformat_minor": 0,
  "metadata": {
    "colab": {
      "name": "Упр2.ipynb",
      "provenance": []
    },
    "kernelspec": {
      "name": "python3",
      "display_name": "Python 3"
    },
    "language_info": {
      "name": "python"
    }
  },
  "cells": [
    {
      "cell_type": "code",
      "execution_count": 17,
      "metadata": {
        "colab": {
          "base_uri": "https://localhost:8080/"
        },
        "id": "0YH58GE0VDHt",
        "outputId": "16a9a544-d2e6-47c6-f9ee-c19d099cde95"
      },
      "outputs": [
        {
          "output_type": "execute_result",
          "data": {
            "text/plain": [
              "array([-32.31442582,  -4.26100973])"
            ]
          },
          "metadata": {},
          "execution_count": 17
        }
      ],
      "source": [
        "import numpy as np\n",
        "from sklearn.decomposition import PCA\n",
        "from sklearn import datasets\n",
        "import matplotlib\n",
        "import matplotlib.pyplot as plt\n",
        "%matplotlib inline\n",
        "from numpy import genfromtxt\n",
        "\n",
        "X = genfromtxt('7_25.csv', delimiter=',')\n",
        "\n",
        "pca = PCA(n_components=2, svd_solver='full') #Создание объекта класса PCA. В качестве параметров выступает количество ГК и метод оптимизации\n",
        "X_transformed = pca.fit(X).transform(X) #X_transformed -- ndarray объектов, где каждый объект описывается двумя ГК\n",
        "X_transformed[0]"
      ]
    },
    {
      "cell_type": "markdown",
      "source": [
        "Числа, которые получились выше, нужно вставить в первые 2 ячейки ответа (\"Введите координату первого объекта относительно первой главной компоненты\" и \"Введите координату первого объекта относительно второй главной компоненты\")"
      ],
      "metadata": {
        "id": "q3PLXPDweVX3"
      }
    },
    {
      "cell_type": "code",
      "source": [
        "import numpy as np\n",
        "from sklearn.decomposition import PCA\n",
        "from sklearn import datasets\n",
        "import matplotlib\n",
        "import matplotlib.pyplot as plt\n",
        "%matplotlib inline\n",
        "from numpy import genfromtxt\n",
        "\n",
        "X = genfromtxt('7_25.csv', delimiter=',')\n",
        "\n",
        "pca = PCA(n_components=2, svd_solver='full') #Создание объекта класса PCA. В качестве параметров выступает количество ГК и метод оптимизации\n",
        "X_transformed = pca.fit(X).transform(X) #X_transformed -- ndarray объектов, где каждый объект описывается двумя ГК\n",
        "\n",
        "explained_variance = np.round(np.cumsum(pca.explained_variance_ratio_),3)\n",
        "explained_variance"
      ],
      "metadata": {
        "colab": {
          "base_uri": "https://localhost:8080/"
        },
        "id": "wdydDvNsePxI",
        "outputId": "24d9ccf4-f8e9-46f2-e078-65c2c9835d1b"
      },
      "execution_count": 18,
      "outputs": [
        {
          "output_type": "execute_result",
          "data": {
            "text/plain": [
              "array([0.421, 0.69 ])"
            ]
          },
          "metadata": {},
          "execution_count": 18
        }
      ]
    },
    {
      "cell_type": "markdown",
      "source": [
        "В третью ячейу ответа нужно ввести только ВТОРОЕ число массива."
      ],
      "metadata": {
        "id": "agVtGaI0fZHx"
      }
    },
    {
      "cell_type": "code",
      "source": [
        "import numpy as np\n",
        "from sklearn.decomposition import PCA\n",
        "from sklearn import datasets\n",
        "import matplotlib\n",
        "import matplotlib.pyplot as plt\n",
        "%matplotlib inline\n",
        "from numpy import genfromtxt\n",
        "\n",
        "X = genfromtxt('7_25.csv', delimiter=',')\n",
        "\n",
        "pca = PCA(n_components=3, svd_solver='full') #Создание объекта класса PCA. В качестве параметров выступает количество ГК и метод оптимизации\n",
        "X_transformed = pca.fit(X).transform(X) #X_transformed -- ndarray объектов, где каждый объект описывается двумя ГК\n",
        "\n",
        "explained_variance = np.round(np.cumsum(pca.explained_variance_ratio_),3)\n",
        "explained_variance"
      ],
      "metadata": {
        "colab": {
          "base_uri": "https://localhost:8080/"
        },
        "id": "PvQNhlWKffrK",
        "outputId": "565eb7b7-0ecc-484a-f5e2-1a50e6283d24"
      },
      "execution_count": 19,
      "outputs": [
        {
          "output_type": "execute_result",
          "data": {
            "text/plain": [
              "array([0.421, 0.69 , 0.931])"
            ]
          },
          "metadata": {},
          "execution_count": 19
        }
      ]
    },
    {
      "cell_type": "markdown",
      "source": [
        "Далее по заданию нам укажут число (доля объясненной дисперсии).\n",
        "\n",
        "В строке: pca = PCA(n_components=3, svd_solver='full')\n",
        "\n",
        "надо увеличивать n_components до тех пор, пока последний элемент массива не станет больше того чамого числа в задании.\n",
        "\n",
        "Ответом будет значение n_components."
      ],
      "metadata": {
        "id": "mEduhQSqfntL"
      }
    }
  ]
}