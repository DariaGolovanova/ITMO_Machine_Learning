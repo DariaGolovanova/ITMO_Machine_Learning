{
  "nbformat": 4,
  "nbformat_minor": 0,
  "metadata": {
    "colab": {
      "name": "ОпенЕбуЛогистическаяРегрессия.ipynb",
      "provenance": []
    },
    "kernelspec": {
      "name": "python3",
      "display_name": "Python 3"
    },
    "language_info": {
      "name": "python"
    }
  },
  "cells": [
    {
      "cell_type": "code",
      "source": [
        "#Загрузка данных для обучения\n",
        "import pandas\n",
        "import numpy as np\n",
        "from sklearn.linear_model import LogisticRegression\n",
        "from sklearn import metrics\n",
        "candyData = pandas.read_csv(\"candy-data.csv\", delimiter=',', index_col='competitorname')\n",
        "candyTest = pandas.read_csv(\"candy-test.csv\", delimiter=',', index_col='competitorname')\n",
        "\n",
        "#Удалим информацию о конфетах, которые не используются в обучении нейросети, согласно заданию, и обучим модель\n",
        "#trainData = candyData.drop(['Подставьие сюда свои значения'])\n",
        "trainData = candyData.drop(['Candy Corn', 'Nerds', 'Reeses stuffed with pieces'])\n",
        "X = pandas.DataFrame(trainData.drop(['winpercent', 'Y'], axis = 1))\n",
        "y = pandas.DataFrame(trainData['Y'])\n",
        "reg = LogisticRegression(random_state=2019, solver='lbfgs').fit(X, y.values.ravel())\n",
        "\n",
        "\n",
        "#Получим предсказания классов 0 и 1 для необходимых конфет\n",
        "#candyForTest = ['Подставьие сюда свои значения']\n",
        "candyForTest = ['Tootsie Roll Juniors', 'Swedish Fish']\n",
        "for candy in candyForTest:\n",
        "  candyDataForTest = candyTest.loc[candy,:].to_frame().T\n",
        "  result = reg.predict_proba(candyDataForTest.drop(['Y'], axis=1))\n",
        "  print(candy + ':')\n",
        "  print('Класс 0 -', round(result[0][0], 3))\n",
        "  print('Класс 1 -', round(result[0][1], 3))\n",
        "\n",
        "#Оценим модель с помощью матрицы ошибок и рассчитаем параметры Recall, Precision, AUC при пороге отсечения = 0.5\n",
        "xTest = pandas.DataFrame(candyTest.drop(['Y'], axis=1))\n",
        "yPred = reg.predict(xTest)\n",
        "yTrue = (candyTest['Y'].to_frame().T).values.ravel()\n",
        "recall = metrics.recall_score(yTrue, yPred)\n",
        "fpr, tpr, thresholds = metrics.roc_curve(yTrue, yPred)\n",
        "auc = metrics.auc(fpr, tpr)\n",
        "precision = metrics.precision_score(yTrue, yPred)\n",
        "print('Recall:', round(recall, 3))\n",
        "print('Precision:', round(precision, 3))\n",
        "print('AUC:', round(auc, 3))\n"
      ],
      "metadata": {
        "colab": {
          "base_uri": "https://localhost:8080/"
        },
        "id": "vKhkwknGb5Bk",
        "outputId": "11720f79-8897-4818-cc32-2cd2a7bfa655"
      },
      "execution_count": 36,
      "outputs": [
        {
          "output_type": "stream",
          "name": "stdout",
          "text": [
            "Tootsie Roll Juniors:\n",
            "Класс 0 - 0.311\n",
            "Класс 1 - 0.689\n",
            "Swedish Fish:\n",
            "Класс 0 - 0.631\n",
            "Класс 1 - 0.369\n",
            "Recall: 0.6\n",
            "Precision: 0.6\n",
            "AUC: 0.7\n"
          ]
        }
      ]
    }
  ]
}